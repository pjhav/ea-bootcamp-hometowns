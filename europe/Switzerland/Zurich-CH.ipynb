{
 "cells": [
  {
   "cell_type": "markdown",
   "id": "4a967e12",
   "metadata": {},
   "source": [
    "## Location"
   ]
  },
  {
   "cell_type": "markdown",
   "id": "0018e7bd",
   "metadata": {},
   "source": [
    "**Latitude:** 47° 22' 0.01\" N <br>\n",
    "**Longitude:** 8° 33' 0.00\" E"
   ]
  },
  {
   "cell_type": "markdown",
   "id": "744c0707",
   "metadata": {},
   "source": [
    "## Population"
   ]
  },
  {
   "cell_type": "markdown",
   "id": "b9af7496",
   "metadata": {},
   "source": [
    "Population estimate <a href=\"https://latitude.to/map/ch/switzerland/cities/zurich\" target=\"_blank\">341,730</a> "
   ]
  },
  {
   "cell_type": "markdown",
   "id": "52b5fa6a",
   "metadata": {},
   "source": [
    "## Landmark"
   ]
  },
  {
   "cell_type": "markdown",
   "id": "ec8bc07a",
   "metadata": {},
   "source": [
    "Fraumunster"
   ]
  }
 ],
 "metadata": {
  "kernelspec": {
   "display_name": "earth-analytics-python",
   "language": "python",
   "name": "earth-analytics-python"
  },
  "language_info": {
   "codemirror_mode": {
    "name": "ipython",
    "version": 3
   },
   "file_extension": ".py",
   "mimetype": "text/x-python",
   "name": "python",
   "nbconvert_exporter": "python",
   "pygments_lexer": "ipython3",
   "version": "3.8.10"
  }
 },
 "nbformat": 4,
 "nbformat_minor": 5
}
